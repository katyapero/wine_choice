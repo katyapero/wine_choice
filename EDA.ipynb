{
 "cells": [
  {
   "cell_type": "code",
   "execution_count": 4,
   "metadata": {},
   "outputs": [],
   "source": [
    "import pandas as pd"
   ]
  },
  {
   "cell_type": "code",
   "execution_count": 5,
   "metadata": {},
   "outputs": [
    {
     "data": {
      "text/html": [
       "<div>\n",
       "<style scoped>\n",
       "    .dataframe tbody tr th:only-of-type {\n",
       "        vertical-align: middle;\n",
       "    }\n",
       "\n",
       "    .dataframe tbody tr th {\n",
       "        vertical-align: top;\n",
       "    }\n",
       "\n",
       "    .dataframe thead th {\n",
       "        text-align: right;\n",
       "    }\n",
       "</style>\n",
       "<table border=\"1\" class=\"dataframe\">\n",
       "  <thead>\n",
       "    <tr style=\"text-align: right;\">\n",
       "      <th></th>\n",
       "      <th>winery</th>\n",
       "      <th>wine</th>\n",
       "      <th>year</th>\n",
       "      <th>rating</th>\n",
       "      <th>num_reviews</th>\n",
       "      <th>country</th>\n",
       "      <th>region</th>\n",
       "      <th>price</th>\n",
       "      <th>type</th>\n",
       "      <th>body</th>\n",
       "      <th>acidity</th>\n",
       "    </tr>\n",
       "  </thead>\n",
       "  <tbody>\n",
       "    <tr>\n",
       "      <th>0</th>\n",
       "      <td>Teso La Monja</td>\n",
       "      <td>Tinto</td>\n",
       "      <td>2013</td>\n",
       "      <td>4.9</td>\n",
       "      <td>58</td>\n",
       "      <td>Espana</td>\n",
       "      <td>Toro</td>\n",
       "      <td>995.00</td>\n",
       "      <td>Toro Red</td>\n",
       "      <td>5.0</td>\n",
       "      <td>3.0</td>\n",
       "    </tr>\n",
       "    <tr>\n",
       "      <th>1</th>\n",
       "      <td>Artadi</td>\n",
       "      <td>Vina El Pison</td>\n",
       "      <td>2018</td>\n",
       "      <td>4.9</td>\n",
       "      <td>31</td>\n",
       "      <td>Espana</td>\n",
       "      <td>Vino de Espana</td>\n",
       "      <td>313.50</td>\n",
       "      <td>Tempranillo</td>\n",
       "      <td>4.0</td>\n",
       "      <td>2.0</td>\n",
       "    </tr>\n",
       "    <tr>\n",
       "      <th>2</th>\n",
       "      <td>Vega Sicilia</td>\n",
       "      <td>Unico</td>\n",
       "      <td>2009</td>\n",
       "      <td>4.8</td>\n",
       "      <td>1793</td>\n",
       "      <td>Espana</td>\n",
       "      <td>Ribera del Duero</td>\n",
       "      <td>324.95</td>\n",
       "      <td>Ribera Del Duero Red</td>\n",
       "      <td>5.0</td>\n",
       "      <td>3.0</td>\n",
       "    </tr>\n",
       "    <tr>\n",
       "      <th>3</th>\n",
       "      <td>Vega Sicilia</td>\n",
       "      <td>Unico</td>\n",
       "      <td>1999</td>\n",
       "      <td>4.8</td>\n",
       "      <td>1705</td>\n",
       "      <td>Espana</td>\n",
       "      <td>Ribera del Duero</td>\n",
       "      <td>692.96</td>\n",
       "      <td>Ribera Del Duero Red</td>\n",
       "      <td>5.0</td>\n",
       "      <td>3.0</td>\n",
       "    </tr>\n",
       "    <tr>\n",
       "      <th>4</th>\n",
       "      <td>Vega Sicilia</td>\n",
       "      <td>Unico</td>\n",
       "      <td>1996</td>\n",
       "      <td>4.8</td>\n",
       "      <td>1309</td>\n",
       "      <td>Espana</td>\n",
       "      <td>Ribera del Duero</td>\n",
       "      <td>778.06</td>\n",
       "      <td>Ribera Del Duero Red</td>\n",
       "      <td>5.0</td>\n",
       "      <td>3.0</td>\n",
       "    </tr>\n",
       "  </tbody>\n",
       "</table>\n",
       "</div>"
      ],
      "text/plain": [
       "          winery           wine  year  rating  num_reviews country  \\\n",
       "0  Teso La Monja          Tinto  2013     4.9           58  Espana   \n",
       "1         Artadi  Vina El Pison  2018     4.9           31  Espana   \n",
       "2   Vega Sicilia          Unico  2009     4.8         1793  Espana   \n",
       "3   Vega Sicilia          Unico  1999     4.8         1705  Espana   \n",
       "4   Vega Sicilia          Unico  1996     4.8         1309  Espana   \n",
       "\n",
       "             region   price                  type  body  acidity  \n",
       "0              Toro  995.00              Toro Red   5.0      3.0  \n",
       "1    Vino de Espana  313.50           Tempranillo   4.0      2.0  \n",
       "2  Ribera del Duero  324.95  Ribera Del Duero Red   5.0      3.0  \n",
       "3  Ribera del Duero  692.96  Ribera Del Duero Red   5.0      3.0  \n",
       "4  Ribera del Duero  778.06  Ribera Del Duero Red   5.0      3.0  "
      ]
     },
     "execution_count": 5,
     "metadata": {},
     "output_type": "execute_result"
    }
   ],
   "source": [
    "data=pd.read_csv('wines_SPA.csv')\n",
    "data.head()"
   ]
  },
  {
   "cell_type": "code",
   "execution_count": 6,
   "metadata": {},
   "outputs": [
    {
     "name": "stdout",
     "output_type": "stream",
     "text": [
      "<class 'pandas.core.frame.DataFrame'>\n",
      "RangeIndex: 7500 entries, 0 to 7499\n",
      "Data columns (total 11 columns):\n",
      " #   Column       Non-Null Count  Dtype  \n",
      "---  ------       --------------  -----  \n",
      " 0   winery       7500 non-null   object \n",
      " 1   wine         7500 non-null   object \n",
      " 2   year         7498 non-null   object \n",
      " 3   rating       7500 non-null   float64\n",
      " 4   num_reviews  7500 non-null   int64  \n",
      " 5   country      7500 non-null   object \n",
      " 6   region       7500 non-null   object \n",
      " 7   price        7500 non-null   float64\n",
      " 8   type         6955 non-null   object \n",
      " 9   body         6331 non-null   float64\n",
      " 10  acidity      6331 non-null   float64\n",
      "dtypes: float64(4), int64(1), object(6)\n",
      "memory usage: 644.7+ KB\n"
     ]
    }
   ],
   "source": [
    "data.info()"
   ]
  },
  {
   "cell_type": "code",
   "execution_count": 7,
   "metadata": {},
   "outputs": [
    {
     "data": {
      "text/plain": [
       "count    7500.000000\n",
       "mean       60.095822\n",
       "std       150.356676\n",
       "min         4.990000\n",
       "25%        18.900000\n",
       "50%        28.530000\n",
       "75%        51.350000\n",
       "max      3119.080000\n",
       "Name: price, dtype: float64"
      ]
     },
     "execution_count": 7,
     "metadata": {},
     "output_type": "execute_result"
    }
   ],
   "source": [
    "data['price'].describe()"
   ]
  }
 ],
 "metadata": {
  "kernelspec": {
   "display_name": "base",
   "language": "python",
   "name": "python3"
  },
  "language_info": {
   "codemirror_mode": {
    "name": "ipython",
    "version": 3
   },
   "file_extension": ".py",
   "mimetype": "text/x-python",
   "name": "python",
   "nbconvert_exporter": "python",
   "pygments_lexer": "ipython3",
   "version": "3.11.5"
  }
 },
 "nbformat": 4,
 "nbformat_minor": 2
}
